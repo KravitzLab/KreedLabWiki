{
  "nbformat": 4,
  "nbformat_minor": 0,
  "metadata": {
    "colab": {
      "provenance": []
    },
    "kernelspec": {
      "name": "python3",
      "display_name": "Python 3"
    },
    "language_info": {
      "name": "python"
    }
  },
  "cells": [
    {
      "cell_type": "markdown",
      "source": [
        "##This notebook will import multiple FED3 files and concatenate them by the following rules:\n",
        "- The columns \"Left_Count\", \"Right_Count\", and \"Pellet_Count\" will increment across files as if they were collected in one session\n",
        "- Files will be ordered chronologically by their dates in the column \"MM:DD:YY hh:mm:ss\"\n",
        "- Trying to concatenate files with different \"Session_type\" values will result in an error\n",
        "- Trying to concatenate files that are not contiguous in time by >24h will result in a warning\n",
        "\n",
        "Written by Gargi Chatterjee Basu/Lex Kravitz with ChatGPT 4o, Jan 2025\n",
        "\n",
        "A single .py script to run this code offline can be found [here](\n",
        "https://github.com/KravitzLab/KreedLabWiki/blob/main/PythonCode/ConcatenateFEDfiles.py) and at the last cell in this notebook"
      ],
      "metadata": {
        "id": "zd0Xr-nMBFr8"
      }
    },
    {
      "cell_type": "markdown",
      "source": [
        "## Step 1: Upload FED3 files to concatenate"
      ],
      "metadata": {
        "id": "P8LEtj3hEUXW"
      }
    },
    {
      "cell_type": "code",
      "source": [
        "import pandas as pd\n",
        "import io\n",
        "from google.colab import files\n",
        "\n",
        "# Upload CSV files\n",
        "uploaded = files.upload()\n",
        "\n",
        "# Store uploaded file names\n",
        "file_paths = list(uploaded.keys())\n",
        "\n"
      ],
      "metadata": {
        "colab": {
          "base_uri": "https://localhost:8080/",
          "height": 108
        },
        "id": "drKAhz38Dc5u",
        "outputId": "5b94f66f-0e0d-4d82-b482-ec99127fd362"
      },
      "execution_count": 5,
      "outputs": [
        {
          "output_type": "display_data",
          "data": {
            "text/plain": [
              "<IPython.core.display.HTML object>"
            ],
            "text/html": [
              "\n",
              "     <input type=\"file\" id=\"files-583fb2d6-bf94-49b2-b1ab-0b720af6fca3\" name=\"files[]\" multiple disabled\n",
              "        style=\"border:none\" />\n",
              "     <output id=\"result-583fb2d6-bf94-49b2-b1ab-0b720af6fca3\">\n",
              "      Upload widget is only available when the cell has been executed in the\n",
              "      current browser session. Please rerun this cell to enable.\n",
              "      </output>\n",
              "      <script>// Copyright 2017 Google LLC\n",
              "//\n",
              "// Licensed under the Apache License, Version 2.0 (the \"License\");\n",
              "// you may not use this file except in compliance with the License.\n",
              "// You may obtain a copy of the License at\n",
              "//\n",
              "//      http://www.apache.org/licenses/LICENSE-2.0\n",
              "//\n",
              "// Unless required by applicable law or agreed to in writing, software\n",
              "// distributed under the License is distributed on an \"AS IS\" BASIS,\n",
              "// WITHOUT WARRANTIES OR CONDITIONS OF ANY KIND, either express or implied.\n",
              "// See the License for the specific language governing permissions and\n",
              "// limitations under the License.\n",
              "\n",
              "/**\n",
              " * @fileoverview Helpers for google.colab Python module.\n",
              " */\n",
              "(function(scope) {\n",
              "function span(text, styleAttributes = {}) {\n",
              "  const element = document.createElement('span');\n",
              "  element.textContent = text;\n",
              "  for (const key of Object.keys(styleAttributes)) {\n",
              "    element.style[key] = styleAttributes[key];\n",
              "  }\n",
              "  return element;\n",
              "}\n",
              "\n",
              "// Max number of bytes which will be uploaded at a time.\n",
              "const MAX_PAYLOAD_SIZE = 100 * 1024;\n",
              "\n",
              "function _uploadFiles(inputId, outputId) {\n",
              "  const steps = uploadFilesStep(inputId, outputId);\n",
              "  const outputElement = document.getElementById(outputId);\n",
              "  // Cache steps on the outputElement to make it available for the next call\n",
              "  // to uploadFilesContinue from Python.\n",
              "  outputElement.steps = steps;\n",
              "\n",
              "  return _uploadFilesContinue(outputId);\n",
              "}\n",
              "\n",
              "// This is roughly an async generator (not supported in the browser yet),\n",
              "// where there are multiple asynchronous steps and the Python side is going\n",
              "// to poll for completion of each step.\n",
              "// This uses a Promise to block the python side on completion of each step,\n",
              "// then passes the result of the previous step as the input to the next step.\n",
              "function _uploadFilesContinue(outputId) {\n",
              "  const outputElement = document.getElementById(outputId);\n",
              "  const steps = outputElement.steps;\n",
              "\n",
              "  const next = steps.next(outputElement.lastPromiseValue);\n",
              "  return Promise.resolve(next.value.promise).then((value) => {\n",
              "    // Cache the last promise value to make it available to the next\n",
              "    // step of the generator.\n",
              "    outputElement.lastPromiseValue = value;\n",
              "    return next.value.response;\n",
              "  });\n",
              "}\n",
              "\n",
              "/**\n",
              " * Generator function which is called between each async step of the upload\n",
              " * process.\n",
              " * @param {string} inputId Element ID of the input file picker element.\n",
              " * @param {string} outputId Element ID of the output display.\n",
              " * @return {!Iterable<!Object>} Iterable of next steps.\n",
              " */\n",
              "function* uploadFilesStep(inputId, outputId) {\n",
              "  const inputElement = document.getElementById(inputId);\n",
              "  inputElement.disabled = false;\n",
              "\n",
              "  const outputElement = document.getElementById(outputId);\n",
              "  outputElement.innerHTML = '';\n",
              "\n",
              "  const pickedPromise = new Promise((resolve) => {\n",
              "    inputElement.addEventListener('change', (e) => {\n",
              "      resolve(e.target.files);\n",
              "    });\n",
              "  });\n",
              "\n",
              "  const cancel = document.createElement('button');\n",
              "  inputElement.parentElement.appendChild(cancel);\n",
              "  cancel.textContent = 'Cancel upload';\n",
              "  const cancelPromise = new Promise((resolve) => {\n",
              "    cancel.onclick = () => {\n",
              "      resolve(null);\n",
              "    };\n",
              "  });\n",
              "\n",
              "  // Wait for the user to pick the files.\n",
              "  const files = yield {\n",
              "    promise: Promise.race([pickedPromise, cancelPromise]),\n",
              "    response: {\n",
              "      action: 'starting',\n",
              "    }\n",
              "  };\n",
              "\n",
              "  cancel.remove();\n",
              "\n",
              "  // Disable the input element since further picks are not allowed.\n",
              "  inputElement.disabled = true;\n",
              "\n",
              "  if (!files) {\n",
              "    return {\n",
              "      response: {\n",
              "        action: 'complete',\n",
              "      }\n",
              "    };\n",
              "  }\n",
              "\n",
              "  for (const file of files) {\n",
              "    const li = document.createElement('li');\n",
              "    li.append(span(file.name, {fontWeight: 'bold'}));\n",
              "    li.append(span(\n",
              "        `(${file.type || 'n/a'}) - ${file.size} bytes, ` +\n",
              "        `last modified: ${\n",
              "            file.lastModifiedDate ? file.lastModifiedDate.toLocaleDateString() :\n",
              "                                    'n/a'} - `));\n",
              "    const percent = span('0% done');\n",
              "    li.appendChild(percent);\n",
              "\n",
              "    outputElement.appendChild(li);\n",
              "\n",
              "    const fileDataPromise = new Promise((resolve) => {\n",
              "      const reader = new FileReader();\n",
              "      reader.onload = (e) => {\n",
              "        resolve(e.target.result);\n",
              "      };\n",
              "      reader.readAsArrayBuffer(file);\n",
              "    });\n",
              "    // Wait for the data to be ready.\n",
              "    let fileData = yield {\n",
              "      promise: fileDataPromise,\n",
              "      response: {\n",
              "        action: 'continue',\n",
              "      }\n",
              "    };\n",
              "\n",
              "    // Use a chunked sending to avoid message size limits. See b/62115660.\n",
              "    let position = 0;\n",
              "    do {\n",
              "      const length = Math.min(fileData.byteLength - position, MAX_PAYLOAD_SIZE);\n",
              "      const chunk = new Uint8Array(fileData, position, length);\n",
              "      position += length;\n",
              "\n",
              "      const base64 = btoa(String.fromCharCode.apply(null, chunk));\n",
              "      yield {\n",
              "        response: {\n",
              "          action: 'append',\n",
              "          file: file.name,\n",
              "          data: base64,\n",
              "        },\n",
              "      };\n",
              "\n",
              "      let percentDone = fileData.byteLength === 0 ?\n",
              "          100 :\n",
              "          Math.round((position / fileData.byteLength) * 100);\n",
              "      percent.textContent = `${percentDone}% done`;\n",
              "\n",
              "    } while (position < fileData.byteLength);\n",
              "  }\n",
              "\n",
              "  // All done.\n",
              "  yield {\n",
              "    response: {\n",
              "      action: 'complete',\n",
              "    }\n",
              "  };\n",
              "}\n",
              "\n",
              "scope.google = scope.google || {};\n",
              "scope.google.colab = scope.google.colab || {};\n",
              "scope.google.colab._files = {\n",
              "  _uploadFiles,\n",
              "  _uploadFilesContinue,\n",
              "};\n",
              "})(self);\n",
              "</script> "
            ]
          },
          "metadata": {}
        },
        {
          "output_type": "stream",
          "name": "stdout",
          "text": [
            "Saving FED003_010725_03.CSV to FED003_010725_03.CSV\n",
            "Saving FED002_010725_concat.csv to FED002_010725_concat.csv\n"
          ]
        }
      ]
    },
    {
      "cell_type": "markdown",
      "source": [
        "## Step 2: Concatenate files"
      ],
      "metadata": {
        "id": "jAXCksmnEqav"
      }
    },
    {
      "cell_type": "code",
      "source": [
        "def process_files(file_paths):\n",
        "    df_combined = pd.DataFrame()\n",
        "    file_info = []\n",
        "\n",
        "    # Loop through the files to get the first timestamp of each file\n",
        "    for file_path in file_paths:\n",
        "        df = pd.read_csv(io.StringIO(uploaded[file_path].decode('utf-8')))\n",
        "        df['MM:DD:YYYY hh:mm:ss'] = pd.to_datetime(df['MM:DD:YYYY hh:mm:ss'])\n",
        "        first_timestamp = df['MM:DD:YYYY hh:mm:ss'].iloc[0]\n",
        "        file_info.append((first_timestamp, file_path))\n",
        "\n",
        "    # Sort files by first timestamp\n",
        "    file_info.sort(key=lambda x: x[0])\n",
        "    file_paths_sorted = [file_path for _, file_path in file_info]\n",
        "\n",
        "    # Read first file and initialize tracking\n",
        "    df_combined = pd.read_csv(io.StringIO(uploaded[file_paths_sorted[0]].decode('utf-8')))\n",
        "    df_combined['MM:DD:YYYY hh:mm:ss'] = pd.to_datetime(df_combined['MM:DD:YYYY hh:mm:ss'])\n",
        "    left_poke_max = df_combined['Left_Poke_Count'].max()\n",
        "    right_poke_max = df_combined['Right_Poke_Count'].max()\n",
        "    pellet_count_max = df_combined['Pellet_Count'].max()\n",
        "\n",
        "    for file_path in file_paths_sorted[1:]:\n",
        "        df_new = pd.read_csv(io.StringIO(uploaded[file_path].decode('utf-8')))\n",
        "        df_new['MM:DD:YYYY hh:mm:ss'] = pd.to_datetime(df_new['MM:DD:YYYY hh:mm:ss'])\n",
        "\n",
        "        # Ensure session types match\n",
        "        if df_combined['Session_type'].iloc[0] != df_new['Session_type'].iloc[0]:\n",
        "            raise ValueError(f\"Error: Session types are different between files! Cannot concatenate {file_path}.\")\n",
        "\n",
        "        # Check timestamp continuity\n",
        "        time_gap = df_new['MM:DD:YYYY hh:mm:ss'].iloc[0] - df_combined['MM:DD:YYYY hh:mm:ss'].iloc[-1]\n",
        "        if time_gap > pd.Timedelta(hours=24):\n",
        "            print(f\"Warning: Timestamps are not contiguous between files, please check {file_path}\")\n",
        "\n",
        "        # Adjust counts\n",
        "        df_new['Left_Poke_Count'] += left_poke_max\n",
        "        df_new['Right_Poke_Count'] += right_poke_max\n",
        "        df_new['Pellet_Count'] += pellet_count_max\n",
        "\n",
        "        # Concatenate data\n",
        "        df_combined = pd.concat([df_combined, df_new], ignore_index=True)\n",
        "\n",
        "        # Update tracking values\n",
        "        left_poke_max = df_combined['Left_Poke_Count'].max()\n",
        "        right_poke_max = df_combined['Right_Poke_Count'].max()\n",
        "        pellet_count_max = df_combined['Pellet_Count'].max()\n",
        "\n",
        "    return df_combined\n",
        "\n",
        "# Process files\n",
        "print(f\"Succesfiully concatened files!\")\n",
        "df_combined = process_files(file_paths)"
      ],
      "metadata": {
        "colab": {
          "base_uri": "https://localhost:8080/"
        },
        "id": "E5-ni96ZEql0",
        "outputId": "b6621461-cd0d-4852-9fa2-da1a21920d46"
      },
      "execution_count": 7,
      "outputs": [
        {
          "output_type": "stream",
          "name": "stdout",
          "text": [
            "Succesfiully concatened files!\n"
          ]
        }
      ]
    },
    {
      "cell_type": "markdown",
      "source": [
        "## Step 3: Download concatenated FED3 file"
      ],
      "metadata": {
        "id": "vXkjzO30E7nF"
      }
    },
    {
      "cell_type": "code",
      "source": [
        "# Save and provide download link\n",
        "output_file_name = \"concatenated_data.csv\"\n",
        "df_combined.to_csv(output_file_name, index=False)\n",
        "files.download(output_file_name)\n"
      ],
      "metadata": {
        "colab": {
          "base_uri": "https://localhost:8080/",
          "height": 17
        },
        "id": "Xey_RJwNE7wm",
        "outputId": "41516e58-ac8a-4e24-9135-10494f97befb"
      },
      "execution_count": 8,
      "outputs": [
        {
          "output_type": "display_data",
          "data": {
            "text/plain": [
              "<IPython.core.display.Javascript object>"
            ],
            "application/javascript": [
              "\n",
              "    async function download(id, filename, size) {\n",
              "      if (!google.colab.kernel.accessAllowed) {\n",
              "        return;\n",
              "      }\n",
              "      const div = document.createElement('div');\n",
              "      const label = document.createElement('label');\n",
              "      label.textContent = `Downloading \"${filename}\": `;\n",
              "      div.appendChild(label);\n",
              "      const progress = document.createElement('progress');\n",
              "      progress.max = size;\n",
              "      div.appendChild(progress);\n",
              "      document.body.appendChild(div);\n",
              "\n",
              "      const buffers = [];\n",
              "      let downloaded = 0;\n",
              "\n",
              "      const channel = await google.colab.kernel.comms.open(id);\n",
              "      // Send a message to notify the kernel that we're ready.\n",
              "      channel.send({})\n",
              "\n",
              "      for await (const message of channel.messages) {\n",
              "        // Send a message to notify the kernel that we're ready.\n",
              "        channel.send({})\n",
              "        if (message.buffers) {\n",
              "          for (const buffer of message.buffers) {\n",
              "            buffers.push(buffer);\n",
              "            downloaded += buffer.byteLength;\n",
              "            progress.value = downloaded;\n",
              "          }\n",
              "        }\n",
              "      }\n",
              "      const blob = new Blob(buffers, {type: 'application/binary'});\n",
              "      const a = document.createElement('a');\n",
              "      a.href = window.URL.createObjectURL(blob);\n",
              "      a.download = filename;\n",
              "      div.appendChild(a);\n",
              "      a.click();\n",
              "      div.remove();\n",
              "    }\n",
              "  "
            ]
          },
          "metadata": {}
        },
        {
          "output_type": "display_data",
          "data": {
            "text/plain": [
              "<IPython.core.display.Javascript object>"
            ],
            "application/javascript": [
              "download(\"download_771ee2d8-7a6d-4b7d-9c99-4adf85a5175f\", \"concatenated_data.csv\", 464440)"
            ]
          },
          "metadata": {}
        }
      ]
    },
    {
      "cell_type": "markdown",
      "source": [
        "## Single .py script is below for running offline"
      ],
      "metadata": {
        "id": "2DTRbZ7HFgqU"
      }
    },
    {
      "cell_type": "code",
      "source": [
        "import pandas as pd\n",
        "\n",
        "# List of CSV files to concatenate\n",
        "file_paths = [\n",
        "    r'\\FED_001.csv',\n",
        "    r'\\FED_002.csv'\n",
        "    # Add more files here as needed\n",
        "]\n",
        "\n",
        "#what to call the output file\n",
        "output_file = r'concat.csv'\n",
        "\n",
        "# Initialize an empty DataFrame for concatenation\n",
        "df_combined = pd.DataFrame()\n",
        "\n",
        "# List to hold (timestamp, file_path) tuples\n",
        "file_info = []\n",
        "\n",
        "# Loop through the files to get the first timestamp of each file\n",
        "for file_path in file_paths:\n",
        "    df = pd.read_csv(file_path, header=0)  # Read the file\n",
        "    df['MM:DD:YYYY hh:mm:ss'] = pd.to_datetime(df['MM:DD:YYYY hh:mm:ss'])  # Convert timestamp to datetime\n",
        "    first_timestamp = df['MM:DD:YYYY hh:mm:ss'].iloc[0]  # Get the first timestamp\n",
        "    file_info.append((first_timestamp, file_path))  # Store the timestamp and file path\n",
        "\n",
        "# Sort the files by the first timestamp (chronologically)\n",
        "file_info.sort(key=lambda x: x[0])\n",
        "\n",
        "# Reorder the file_paths based on the sorted timestamps\n",
        "file_paths_sorted = [file_path for _, file_path in file_info]\n",
        "\n",
        "# Initialize the combined DataFrame with the first sorted file\n",
        "df_combined = pd.read_csv(file_paths_sorted[0], header=0)\n",
        "df_combined['MM:DD:YYYY hh:mm:ss'] = pd.to_datetime(df_combined['MM:DD:YYYY hh:mm:ss'])\n",
        "\n",
        "# Track the current maximum values of the counting columns\n",
        "left_poke_max = df_combined['Left_Poke_Count'].max()\n",
        "right_poke_max = df_combined['Right_Poke_Count'].max()\n",
        "pellet_count_max = df_combined['Pellet_Count'].max()\n",
        "\n",
        "# Loop through the rest of the sorted files\n",
        "for file_path in file_paths_sorted[1:]:\n",
        "    # Read the next file without headers\n",
        "    df_new = pd.read_csv(file_path, header=0)\n",
        "\n",
        "    # Ensure 'timestamp' column is in datetime format for the new file\n",
        "    df_new['MM:DD:YYYY hh:mm:ss'] = pd.to_datetime(df_new['MM:DD:YYYY hh:mm:ss'])\n",
        "\n",
        "    # Check if session types are the same in both files\n",
        "    if df_combined['Session_type'].iloc[0] != df_new['Session_type'].iloc[0]:\n",
        "        raise ValueError(f\"Error: Session types are different between files! Cannot concatenate {file_path}.\")\n",
        "\n",
        "    # Check if the time gap between the last timestamp in the combined DataFrame and the first timestamp in the new file is greater than 24 hours\n",
        "    time_gap = df_new['MM:DD:YYYY hh:mm:ss'].iloc[0] - df_combined['MM:DD:YYYY hh:mm:ss'].iloc[-1]\n",
        "    if time_gap > pd.Timedelta(hours=24):\n",
        "        print(f\"Warning: Timestamps are not contiguous between {file_paths[0]} and {file_path}, please check the files\")\n",
        "\n",
        "    # Increment the count for the new DataFrame\n",
        "    df_new['Left_Poke_Count'] += left_poke_max\n",
        "    df_new['Right_Poke_Count'] += right_poke_max\n",
        "    df_new['Pellet_Count'] += pellet_count_max\n",
        "\n",
        "    # Append the new DataFrame to the combined DataFrame\n",
        "    df_combined = pd.concat([df_combined, df_new], ignore_index=True)\n",
        "\n",
        "    # Update the max values for the next file\n",
        "    left_poke_max = df_combined['Left_Poke_Count'].max()\n",
        "    right_poke_max = df_combined['Right_Poke_Count'].max()\n",
        "    pellet_count_max = df_combined['Pellet_Count'].max()\n",
        "\n",
        "# Save the concatenated DataFrame to a new CSV file in the desired folder\n",
        "df_combined.to_csv(output_file, index=False)\n",
        "\n",
        "print(\"CSV files have been concatenated successfully!\")\n"
      ],
      "metadata": {
        "id": "80TmjAVrCBY0"
      },
      "execution_count": null,
      "outputs": []
    }
  ]
}