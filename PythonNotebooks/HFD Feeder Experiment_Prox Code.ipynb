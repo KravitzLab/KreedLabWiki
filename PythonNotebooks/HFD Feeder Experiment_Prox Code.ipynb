{
 "cells": [
  {
   "cell_type": "code",
   "execution_count": 10,
   "id": "32f0eece",
   "metadata": {},
   "outputs": [],
   "source": [
    "import pandas as pd\n",
    "import numpy as np \n",
    "import seaborn as sns\n",
    "import matplotlib.pyplot as plt"
   ]
  },
  {
   "cell_type": "code",
   "execution_count": 11,
   "id": "f0f99ceb",
   "metadata": {},
   "outputs": [],
   "source": [
    "#When Updating Start Here \n",
    "MouseWeights = pd.read_excel(\"RawWeights2.xlsx\",header=0)\n",
    "#print(MouseWeights.shape)\n",
    "#MouseWeights.head()\n",
    "#MouseWeights\n"
   ]
  },
  {
   "cell_type": "code",
   "execution_count": 12,
   "id": "510211a0",
   "metadata": {},
   "outputs": [],
   "source": [
    "\n",
    "# Clean up column names\n",
    "MouseWeights.columns = [\"Cage\", \"Mouse\", \"Date\", \"Group_Feeder\", \"Weight\"]\n",
    "\n",
    "# Ensure Date column is datetime\n",
    "MouseWeights[\"Date\"] = pd.to_datetime(MouseWeights[\"Date\"])\n",
    "\n",
    "\n",
    "\n",
    "#MouseWeights\n"
   ]
  },
  {
   "cell_type": "code",
   "execution_count": 15,
   "id": "16e830d7",
   "metadata": {},
   "outputs": [],
   "source": [
    "# Group by Date and Group_Feeder, then calculate mean and standard error\n",
    "\n",
    "summary = MouseWeights.groupby([\"Date\", \"Group_Feeder\"])[\"Weight\"].agg(\n",
    "    mean=\"mean\",\n",
    "    se=lambda x: x.std(ddof=1) / np.sqrt(len(x))   # standard error formula\n",
    ").reset_index()\n",
    "\n",
    "#summary.tail(20)\n",
    "#weights\n",
    "\n"
   ]
  },
  {
   "cell_type": "code",
   "execution_count": 16,
   "id": "2c7c74f5",
   "metadata": {},
   "outputs": [
    {
     "data": {
      "text/plain": [
       "array(['Easy w Chow', 'Easy w HFD', 'Hard w Chow', 'Hard w HFD'],\n",
       "      dtype=object)"
      ]
     },
     "execution_count": 16,
     "metadata": {},
     "output_type": "execute_result"
    }
   ],
   "source": [
    "# Optional: rename columns for clarity\n",
    "summary.rename(columns={\n",
    "    \"date\": \"Date\",\n",
    "    \"Hard vs Easy + Food\": \"Group_Feeder\",\n",
    "    \"mean\": \"Mean_Weight\",\n",
    "    \"se\": \"SE\"\n",
    "}, inplace=True)\n",
    "\n",
    "#remove invisible spaces \n",
    "summary[\"Group_Feeder\"] = summary[\"Group_Feeder\"].str.strip()\n",
    "summary\n",
    "\n",
    "#use this to find invisible spaces \n",
    "summary[\"Group_Feeder\"].value_counts()\n",
    "summary[\"Group_Feeder\"].unique()\n",
    "\n",
    "\n",
    "#easy_hfd = summary[summary[\"Group_Feeder\"] == \"Easy w HFD \"]\n",
    "#easy_hfd"
   ]
  },
  {
   "cell_type": "code",
   "execution_count": 36,
   "id": "b20bc6f5",
   "metadata": {
    "scrolled": true
   },
   "outputs": [
    {
     "ename": "IndentationError",
     "evalue": "unexpected indent (2691497357.py, line 7)",
     "output_type": "error",
     "traceback": [
      "\u001b[1;36m  File \u001b[1;32m\"C:\\Users\\tyara\\AppData\\Local\\Temp\\ipykernel_21184\\2691497357.py\"\u001b[1;36m, line \u001b[1;32m7\u001b[0m\n\u001b[1;33m    start_hfd,\u001b[0m\n\u001b[1;37m    ^\u001b[0m\n\u001b[1;31mIndentationError\u001b[0m\u001b[1;31m:\u001b[0m unexpected indent\n"
     ]
    }
   ],
   "source": [
    "#sns.lineplot( data = summary, x = \"Date\", y = \"Mean_Weight\", hue = \"Group_Feeder\", marker = \"o\", errorbar = \"se\")\n",
    "\n",
    "\n",
    "\n",
    "#start_hfd = pd.to_datetime(\"2025-09-15\")   # adjust year if needed\n",
    "#plt.axvspan(\n",
    "    start_hfd, \n",
    "    summary['Date'].max(),      # shade until the last date in your data\n",
    "    color='skyblue', \n",
    "    alpha=0.2,                  # transparency\n",
    "    label='HFD introduced'\n",
    "    )\n",
    "for group, data in summary.groupby(\"Group_Feeder\"):\n",
    "# Add shaded SE region\n",
    "    plt.fill_between(\n",
    "        data[\"Date\"],\n",
    "        data[\"Mean_Weight\"] - data[\"SE\"],\n",
    "        data[\"Mean_Weight\"] + data[\"SE\"],\n",
    "        alpha=0.2\n",
    "    )\n",
    "\n",
    "\n",
    "# Labels and formatting\n",
    "plt.title(\"Mouse Weights Over Time by Diet and Feeder Type\")\n",
    "plt.ylabel(\"Weight (g)\")\n",
    "plt.xlabel(\"Date\")\n",
    "plt.xticks(rotation=45)\n",
    "plt.legend(title=\"Group + Feeder Type\", loc='best')\n",
    "plt.tight_layout()\n",
    "plt.show()\n"
   ]
  },
  {
   "cell_type": "code",
   "execution_count": 39,
   "id": "015809d9",
   "metadata": {},
   "outputs": [],
   "source": [
    "\n",
    "HardHFD = MouseWeights.query('Group_Feeder == \"Hard w HFD\"')\n",
    "#HardHFD.tail\n",
    "#means for each group for most recent weighing day \n",
    "#summary.tail(4)"
   ]
  },
  {
   "cell_type": "code",
   "execution_count": 4,
   "id": "62771d8b",
   "metadata": {},
   "outputs": [],
   "source": [
    "prox = pd.DataFrame()\n",
    "prox = pd.read_excel(\"Prox.xlsx\") \n",
    "#prox - check dataframe"
   ]
  },
  {
   "cell_type": "code",
   "execution_count": 1,
   "id": "34fbe653",
   "metadata": {},
   "outputs": [],
   "source": [
    "#prox.sort_values(\"Prox\")\n",
    "#prox.sort_values(\"Food Type\")\n"
   ]
  },
  {
   "cell_type": "code",
   "execution_count": 5,
   "id": "dae29797",
   "metadata": {},
   "outputs": [],
   "source": [
    "prox['Date'] = pd.to_datetime(prox['Date'])\n",
    "#print(prox['Prox'].dtype)\n",
    "#print(prox['Food Type'].dtype)\n"
   ]
  },
  {
   "cell_type": "code",
   "execution_count": 37,
   "id": "d31a3510",
   "metadata": {},
   "outputs": [
    {
     "ename": "IndentationError",
     "evalue": "unexpected indent (4105812507.py, line 6)",
     "output_type": "error",
     "traceback": [
      "\u001b[1;36m  File \u001b[1;32m\"C:\\Users\\tyara\\AppData\\Local\\Temp\\ipykernel_21184\\4105812507.py\"\u001b[1;36m, line \u001b[1;32m6\u001b[0m\n\u001b[1;33m    start_hfd,\u001b[0m\n\u001b[1;37m    ^\u001b[0m\n\u001b[1;31mIndentationError\u001b[0m\u001b[1;31m:\u001b[0m unexpected indent\n"
     ]
    }
   ],
   "source": [
    "#plot all mice - not separated by prox time \n",
    "#sns.lineplot(data= prox, x=\"Date\", y=\"Weight\", marker=\"o\", errorbar = \"se\") #all mice\n",
    "\n",
    "#start_hfd = pd.to_datetime(\"2025-10-21\")   # adjust year if needed\n",
    "#plt.axvspan(\n",
    "    start_hfd, \n",
    "    prox['Date'].max(),      # shade until the last date in your data\n",
    "    color='skyblue', \n",
    "    alpha=0.2,                  # transparency\n",
    "    label='HFD introduced'\n",
    ")\n",
    "\n",
    "\n",
    "\n",
    "# Labels and formatting\n",
    "plt.title(\"All Mouse Weights Over Time by Diet and Feeder Type N=4\")\n",
    "plt.ylabel(\"Weight (g)\")\n",
    "plt.xlabel(\"Date\")\n",
    "plt.xticks(rotation=45)\n",
    "plt.legend(title=\"Group + Feeder Type\", loc='best')\n",
    "plt.tight_layout()\n",
    "plt.show()\n"
   ]
  },
  {
   "cell_type": "code",
   "execution_count": 33,
   "id": "85062579",
   "metadata": {},
   "outputs": [
    {
     "ename": "IndentationError",
     "evalue": "unexpected indent (3601213649.py, line 9)",
     "output_type": "error",
     "traceback": [
      "\u001b[1;36m  File \u001b[1;32m\"C:\\Users\\tyara\\AppData\\Local\\Temp\\ipykernel_21184\\3601213649.py\"\u001b[1;36m, line \u001b[1;32m9\u001b[0m\n\u001b[1;33m    start_hfd,\u001b[0m\n\u001b[1;37m    ^\u001b[0m\n\u001b[1;31mIndentationError\u001b[0m\u001b[1;31m:\u001b[0m unexpected indent\n"
     ]
    }
   ],
   "source": [
    "#plot for 2 mice that have good prox data --> 1 sec, 2 sec, 3 sec \n",
    "prox.query(\"Mouse == 1\")\n",
    "\n",
    "#sns.lineplot(data= prox, x=\"Date\", y=\"Weight\", marker=\"o\", errorbar = \"se\")\n",
    "\n",
    "\n",
    "#start_hfd = pd.to_datetime(\"2025-10-21\")   # adjust year if needed\n",
    "#plt.axvspan(\n",
    "    start_hfd, \n",
    "    prox['Date'].max(),      # shade until the last date in your data\n",
    "    color='skyblue', \n",
    "    alpha=0.2,                  # transparency\n",
    "    label='HFD introduced'\n",
    ")\n",
    "\n",
    "\n",
    "\n",
    "# Labels and formatting\n",
    "plt.title(\"Mouse Weights Over Time by Diet and Feeder Type\")\n",
    "plt.ylabel(\"Weight (g)\")\n",
    "plt.xlabel(\"Date\")\n",
    "plt.xticks(rotation=45)\n",
    "plt.legend(title=\"Group + Feeder Type\", loc='best')\n",
    "plt.tight_layout()\n",
    "plt.show()\n"
   ]
  },
  {
   "cell_type": "code",
   "execution_count": 38,
   "id": "d9366884",
   "metadata": {},
   "outputs": [],
   "source": [
    "Mouse1 = prox.query(\"Mouse == 1\")\n",
    "Mouse2 = prox.query(\"Mouse ==2\")\n",
    "\n",
    "#new pandas dataframe that combines the two mice that have good prox data \n",
    "combined = pd.concat([Mouse1, Mouse2])\n",
    "#combined\n",
    "\n"
   ]
  },
  {
   "cell_type": "code",
   "execution_count": 35,
   "id": "3d2a1b4d",
   "metadata": {},
   "outputs": [
    {
     "ename": "IndentationError",
     "evalue": "unindent does not match any outer indentation level (<tokenize>, line 27)",
     "output_type": "error",
     "traceback": [
      "\u001b[1;36m  File \u001b[1;32m\"<tokenize>\"\u001b[1;36m, line \u001b[1;32m27\u001b[0m\n\u001b[1;33m    )\u001b[0m\n\u001b[1;37m    ^\u001b[0m\n\u001b[1;31mIndentationError\u001b[0m\u001b[1;31m:\u001b[0m unindent does not match any outer indentation level\n"
     ]
    }
   ],
   "source": [
    "import pandas as pd\n",
    "import matplotlib.pyplot as plt\n",
    "import seaborn as sns\n",
    "\n",
    "#sns.lineplot(data=combined, x=\"Date\", y=\"Weight\", marker=\"o\", errorbar=\"se\")\n",
    "\n",
    "# Shade HFD introduction\n",
    "#start_hfd = pd.to_datetime(\"2025-10-21\")\n",
    "#plt.axvspan(\n",
    "    start_hfd,\n",
    "    prox['Date'].max(),\n",
    "    color='skyblue',\n",
    "    alpha=0.2,\n",
    "    label='HFD introduced'\n",
    ")\n",
    "\n",
    "# Vertical lines for event days - for prox introduction\n",
    "event_dates = [\"2025-10-27\"]\n",
    "\n",
    "for date in event_dates:\n",
    "    plt.axvline(\n",
    "        pd.to_datetime(date),\n",
    "        color='black',          # choose your color\n",
    "        linestyle='--',       # dashed line\n",
    "        linewidth=1.5,        # thickness\n",
    "        label=f'Prox Introduction'  # label (optional)\n",
    "    )\n",
    "\n",
    "# Labels and formatting\n",
    "plt.title(\"Mouse Weights Over Time by Diet and Feeder Type N=2\")\n",
    "plt.ylabel(\"Weight (g)\")\n",
    "plt.xlabel(\"Date\")\n",
    "plt.xticks(rotation=45)\n",
    "plt.legend(title=\"Group + Feeder Type\", loc='best')\n",
    "plt.tight_layout()\n",
    "plt.show()\n",
    "\n"
   ]
  }
 ],
 "metadata": {
  "kernelspec": {
   "display_name": "Python 3 (ipykernel)",
   "language": "python",
   "name": "python3"
  },
  "language_info": {
   "codemirror_mode": {
    "name": "ipython",
    "version": 3
   },
   "file_extension": ".py",
   "mimetype": "text/x-python",
   "name": "python",
   "nbconvert_exporter": "python",
   "pygments_lexer": "ipython3",
   "version": "3.9.13"
  }
 },
 "nbformat": 4,
 "nbformat_minor": 5
}
