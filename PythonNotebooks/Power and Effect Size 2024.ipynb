{
 "cells": [
  {
   "cell_type": "markdown",
   "id": "01ca711f",
   "metadata": {
    "slideshow": {
     "slide_type": "slide"
    }
   },
   "source": [
    "<p style=\"text-align: center;\">\n",
    "\n",
    "# Power and effect size\n",
    "### Lex Kravitz\n",
    "\n",
    "</p>\n"
   ]
  },
  {
   "cell_type": "code",
   "execution_count": 1,
   "id": "73d4430b",
   "metadata": {
    "slideshow": {
     "slide_type": "slide"
    }
   },
   "outputs": [],
   "source": [
    "#import our libraries\n",
    "import numpy as np\n",
    "import pandas as pd\n",
    "import matplotlib.pyplot as plt\n",
    "import seaborn as sns\n",
    "import random\n",
    "from matplotlib.patches import Rectangle\n",
    "import matplotlib.patches as patches"
   ]
  },
  {
   "cell_type": "markdown",
   "id": "f98f6dbb",
   "metadata": {
    "slideshow": {
     "slide_type": "slide"
    }
   },
   "source": [
    "### Goals of lecture:\n",
    "- Introduce one more package: Pingouin\n",
    "- Understand statistical power \n",
    "- Learn what an \"effect size\" is, and how to express it\n",
    "- Determine how to calculate the number of subjects you should include in your studies"
   ]
  },
  {
   "cell_type": "markdown",
   "id": "d354989c",
   "metadata": {
    "slideshow": {
     "slide_type": "slide"
    }
   },
   "source": [
    "### What is a Pingouin?\n",
    "![](https://i.pinimg.com/originals/64/77/de/6477de09007adca909c6e73e94f59b07.gif)"
   ]
  },
  {
   "cell_type": "markdown",
   "id": "229404a6",
   "metadata": {
    "slideshow": {
     "slide_type": "fragment"
    }
   },
   "source": [
    "###  [Pingouin](https://pingouin-stats.org/) is also a stats package!\n",
    "\n"
   ]
  },
  {
   "cell_type": "markdown",
   "id": "e4d9bca6",
   "metadata": {
    "slideshow": {
     "slide_type": "slide"
    }
   },
   "source": [
    "Let's install Pingouin (you'll need this for the homework)!"
   ]
  },
  {
   "cell_type": "code",
   "execution_count": 2,
   "id": "33102c08",
   "metadata": {
    "slideshow": {
     "slide_type": "fragment"
    }
   },
   "outputs": [
    {
     "name": "stdout",
     "output_type": "stream",
     "text": [
      "Requirement already satisfied: pingouin in c:\\users\\kravitza.psych\\appdata\\local\\anaconda3\\lib\\site-packages (0.5.3)\n",
      "Requirement already satisfied: numpy>=1.19 in c:\\users\\kravitza.psych\\appdata\\local\\anaconda3\\lib\\site-packages (from pingouin) (1.24.3)\n",
      "Requirement already satisfied: scipy>=1.7 in c:\\users\\kravitza.psych\\appdata\\local\\anaconda3\\lib\\site-packages (from pingouin) (1.10.1)\n",
      "Requirement already satisfied: pandas>=1.0 in c:\\users\\kravitza.psych\\appdata\\local\\anaconda3\\lib\\site-packages (from pingouin) (2.0.1)\n",
      "Requirement already satisfied: matplotlib>=3.0.2 in c:\\users\\kravitza.psych\\appdata\\local\\anaconda3\\lib\\site-packages (from pingouin) (3.7.1)\n",
      "Requirement already satisfied: seaborn>=0.11 in c:\\users\\kravitza.psych\\appdata\\local\\anaconda3\\lib\\site-packages (from pingouin) (0.12.2)\n",
      "Requirement already satisfied: statsmodels>=0.13 in c:\\users\\kravitza.psych\\appdata\\local\\anaconda3\\lib\\site-packages (from pingouin) (0.14.0)\n",
      "Requirement already satisfied: scikit-learn in c:\\users\\kravitza.psych\\appdata\\local\\anaconda3\\lib\\site-packages (from pingouin) (1.3.0)\n",
      "Requirement already satisfied: pandas-flavor>=0.2.0 in c:\\users\\kravitza.psych\\appdata\\local\\anaconda3\\lib\\site-packages (from pingouin) (0.6.0)\n",
      "Requirement already satisfied: outdated in c:\\users\\kravitza.psych\\appdata\\local\\anaconda3\\lib\\site-packages (from pingouin) (0.2.2)\n",
      "Requirement already satisfied: tabulate in c:\\users\\kravitza.psych\\appdata\\local\\anaconda3\\lib\\site-packages (from pingouin) (0.8.10)\n",
      "Requirement already satisfied: contourpy>=1.0.1 in c:\\users\\kravitza.psych\\appdata\\local\\anaconda3\\lib\\site-packages (from matplotlib>=3.0.2->pingouin) (1.0.5)\n",
      "Requirement already satisfied: cycler>=0.10 in c:\\users\\kravitza.psych\\appdata\\local\\anaconda3\\lib\\site-packages (from matplotlib>=3.0.2->pingouin) (0.11.0)\n",
      "Requirement already satisfied: fonttools>=4.22.0 in c:\\users\\kravitza.psych\\appdata\\local\\anaconda3\\lib\\site-packages (from matplotlib>=3.0.2->pingouin) (4.25.0)\n",
      "Requirement already satisfied: kiwisolver>=1.0.1 in c:\\users\\kravitza.psych\\appdata\\local\\anaconda3\\lib\\site-packages (from matplotlib>=3.0.2->pingouin) (1.4.4)\n",
      "Requirement already satisfied: packaging>=20.0 in c:\\users\\kravitza.psych\\appdata\\local\\anaconda3\\lib\\site-packages (from matplotlib>=3.0.2->pingouin) (23.0)\n",
      "Requirement already satisfied: pillow>=6.2.0 in c:\\users\\kravitza.psych\\appdata\\local\\anaconda3\\lib\\site-packages (from matplotlib>=3.0.2->pingouin) (9.4.0)\n",
      "Requirement already satisfied: pyparsing>=2.3.1 in c:\\users\\kravitza.psych\\appdata\\local\\anaconda3\\lib\\site-packages (from matplotlib>=3.0.2->pingouin) (3.0.9)\n",
      "Requirement already satisfied: python-dateutil>=2.7 in c:\\users\\kravitza.psych\\appdata\\local\\anaconda3\\lib\\site-packages (from matplotlib>=3.0.2->pingouin) (2.8.2)\n",
      "Requirement already satisfied: pytz>=2020.1 in c:\\users\\kravitza.psych\\appdata\\local\\anaconda3\\lib\\site-packages (from pandas>=1.0->pingouin) (2022.7)\n",
      "Requirement already satisfied: tzdata>=2022.1 in c:\\users\\kravitza.psych\\appdata\\local\\anaconda3\\lib\\site-packages (from pandas>=1.0->pingouin) (2023.3)\n",
      "Requirement already satisfied: xarray in c:\\users\\kravitza.psych\\appdata\\local\\anaconda3\\lib\\site-packages (from pandas-flavor>=0.2.0->pingouin) (2023.6.0)\n",
      "Requirement already satisfied: patsy>=0.5.2 in c:\\users\\kravitza.psych\\appdata\\local\\anaconda3\\lib\\site-packages (from statsmodels>=0.13->pingouin) (0.5.3)\n",
      "Requirement already satisfied: setuptools>=44 in c:\\users\\kravitza.psych\\appdata\\local\\anaconda3\\lib\\site-packages (from outdated->pingouin) (68.0.0)\n",
      "Requirement already satisfied: littleutils in c:\\users\\kravitza.psych\\appdata\\local\\anaconda3\\lib\\site-packages (from outdated->pingouin) (0.2.2)\n",
      "Requirement already satisfied: requests in c:\\users\\kravitza.psych\\appdata\\local\\anaconda3\\lib\\site-packages (from outdated->pingouin) (2.31.0)\n",
      "Requirement already satisfied: joblib>=1.1.1 in c:\\users\\kravitza.psych\\appdata\\local\\anaconda3\\lib\\site-packages (from scikit-learn->pingouin) (1.2.0)\n",
      "Requirement already satisfied: threadpoolctl>=2.0.0 in c:\\users\\kravitza.psych\\appdata\\local\\anaconda3\\lib\\site-packages (from scikit-learn->pingouin) (2.2.0)\n",
      "Requirement already satisfied: six in c:\\users\\kravitza.psych\\appdata\\local\\anaconda3\\lib\\site-packages (from patsy>=0.5.2->statsmodels>=0.13->pingouin) (1.16.0)\n",
      "Requirement already satisfied: charset-normalizer<4,>=2 in c:\\users\\kravitza.psych\\appdata\\local\\anaconda3\\lib\\site-packages (from requests->outdated->pingouin) (2.0.4)\n",
      "Requirement already satisfied: idna<4,>=2.5 in c:\\users\\kravitza.psych\\appdata\\local\\anaconda3\\lib\\site-packages (from requests->outdated->pingouin) (3.4)\n",
      "Requirement already satisfied: urllib3<3,>=1.21.1 in c:\\users\\kravitza.psych\\appdata\\local\\anaconda3\\lib\\site-packages (from requests->outdated->pingouin) (1.26.16)\n",
      "Requirement already satisfied: certifi>=2017.4.17 in c:\\users\\kravitza.psych\\appdata\\local\\anaconda3\\lib\\site-packages (from requests->outdated->pingouin) (2023.7.22)\n",
      "Note: you may need to restart the kernel to use updated packages.\n"
     ]
    }
   ],
   "source": [
    "pip install pingouin"
   ]
  },
  {
   "cell_type": "markdown",
   "id": "42c362ac",
   "metadata": {
    "slideshow": {
     "slide_type": "slide"
    }
   },
   "source": [
    "### Useful Pingouin functions:\n",
    "[T-test](https://pingouin-stats.org/build/html/generated/pingouin.ttest.html) <br>\n",
    "[ANOVA](https://pingouin-stats.org/build/html/generated/pingouin.anova.html#pingouin.anova) <br>\n",
    "[Linear regression](https://pingouin-stats.org/build/html/generated/pingouin.linear_regression.html#pingouin.linear_regression) <br>\n",
    "[Power analysis - t-test](https://pingouin-stats.org/build/html/generated/pingouin.power_ttest.html#pingouin.power_ttest) <br>"
   ]
  },
  {
   "cell_type": "markdown",
   "id": "3c9449cc",
   "metadata": {
    "slideshow": {
     "slide_type": "slide"
    }
   },
   "source": [
    "### Goals of lecture:\n",
    "- ~~Introduce one more package: Pingouin~~\n",
    "- Understand statistical power \n",
    "- Learn what an \"effect size\" is, and how to express it\n",
    "- Determine how to calculate the number of subjects you should include in your studies"
   ]
  },
  {
   "cell_type": "markdown",
   "id": "601ecf29",
   "metadata": {
    "slideshow": {
     "slide_type": "slide"
    }
   },
   "source": [
    "# What is power?\n",
    "<img src=\"https://sm.ign.com/ign_fr/news/a/avengers-e/avengers-endgame-marvel-toys-may-reveal-thanos-new-weapon_2yx5.jpg\" alt=\"Drawing\" style=\"width: 700px;\"/>"
   ]
  },
  {
   "cell_type": "markdown",
   "id": "51c8bd96",
   "metadata": {
    "slideshow": {
     "slide_type": "slide"
    }
   },
   "source": [
    "# What is statistical power?\n"
   ]
  },
  {
   "cell_type": "markdown",
   "id": "fc46ed8e",
   "metadata": {
    "slideshow": {
     "slide_type": "fragment"
    }
   },
   "source": [
    "### Statistical Power: The probability of detecting a significant result in your sample when it exists in the population (i.e a true positive)."
   ]
  },
  {
   "cell_type": "markdown",
   "id": "1888d692",
   "metadata": {
    "slideshow": {
     "slide_type": "fragment"
    }
   },
   "source": [
    "## What do the terms \"sample\" and \"population\" mean?"
   ]
  },
  {
   "cell_type": "markdown",
   "id": "63b93377",
   "metadata": {
    "slideshow": {
     "slide_type": "fragment"
    }
   },
   "source": [
    "![](https://statsandr.com/blog/what-is-the-difference-between-population-and-sample_files/population-sample.png)\n",
    "<br>\n",
    "https://statsandr.com/blog/what-is-the-difference-between-population-and-sample/\n"
   ]
  },
  {
   "cell_type": "markdown",
   "id": "936c3331",
   "metadata": {
    "slideshow": {
     "slide_type": "slide"
    }
   },
   "source": [
    "### What level of Statistical Power should you aim for?\n",
    "- You will almost always use a power of 0.80, just as you will almost always use an alpha of 0.05 \n"
   ]
  },
  {
   "cell_type": "markdown",
   "id": "3d3ab58d",
   "metadata": {
    "slideshow": {
     "slide_type": "fragment"
    }
   },
   "source": [
    "- Like the convention of using 0.05 as your alpha, the reason for using 0.80 for power is a bit arbitrary. \n"
   ]
  },
  {
   "cell_type": "markdown",
   "id": "7c95b46e",
   "metadata": {
    "slideshow": {
     "slide_type": "fragment"
    }
   },
   "source": [
    "- The reason for a desired Power of 0.80 is attributed to Jacob Cohen:<br>        \"False positives are four times worse for science than false negatives\""
   ]
  },
  {
   "cell_type": "markdown",
   "id": "30b50d52",
   "metadata": {
    "slideshow": {
     "slide_type": "slide"
    }
   },
   "source": [
    "### We decide to test if Ozempic causes weight loss in mice.  We test a sample of 5 mice with Ozempic and 5 with a control injection:\n"
   ]
  },
  {
   "cell_type": "code",
   "execution_count": 3,
   "id": "eca85bc0",
   "metadata": {
    "slideshow": {
     "slide_type": "fragment"
    }
   },
   "outputs": [],
   "source": [
    "# Here are the weights of our mice\n",
    "Control = [25, 26, 27, 24, 23]\n",
    "Ozempic = [24, 25, 22, 22, 23]"
   ]
  },
  {
   "cell_type": "code",
   "execution_count": 4,
   "id": "3ef80f75",
   "metadata": {
    "slideshow": {
     "slide_type": "fragment"
    }
   },
   "outputs": [
    {
     "data": {
      "image/png": "[encoded data removed]",
      "text/plain": [
       "<Figure size 200x200 with 1 Axes>"
      ]
     },
     "metadata": {},
     "output_type": "display_data"
    }
   ],
   "source": [
    "#Let's plot it\n",
    "plt.figure(figsize=(2, 2))\n",
    "ax = sns.barplot ([Control, Ozempic])\n",
    "ax.set_xticklabels([\"Control\", \"Ozempic\"]); "
   ]
  },
  {
   "cell_type": "code",
   "execution_count": 5,
   "id": "03cdf62b",
   "metadata": {
    "slideshow": {
     "slide_type": "fragment"
    }
   },
   "outputs": [
    {
     "data": {
      "text/html": [
       "<div>\n",
       "<style scoped>\n",
       "    .dataframe tbody tr th:only-of-type {\n",
       "        vertical-align: middle;\n",
       "    }\n",
       "\n",
       "    .dataframe tbody tr th {\n",
       "        vertical-align: top;\n",
       "    }\n",
       "\n",
       "    .dataframe thead th {\n",
       "        text-align: right;\n",
       "    }\n",
       "</style>\n",
       "<table border=\"1\" class=\"dataframe\">\n",
       "  <thead>\n",
       "    <tr style=\"text-align: right;\">\n",
       "      <th></th>\n",
       "      <th>T</th>\n",
       "      <th>dof</th>\n",
       "      <th>alternative</th>\n",
       "      <th>p-val</th>\n",
       "      <th>CI95%</th>\n",
       "      <th>cohen-d</th>\n",
       "      <th>BF10</th>\n",
       "      <th>power</th>\n",
       "    </tr>\n",
       "  </thead>\n",
       "  <tbody>\n",
       "    <tr>\n",
       "      <th>T-test</th>\n",
       "      <td>1.963961</td>\n",
       "      <td>8</td>\n",
       "      <td>two-sided</td>\n",
       "      <td>0.085135</td>\n",
       "      <td>[-0.31, 3.91]</td>\n",
       "      <td>1.242118</td>\n",
       "      <td>1.363</td>\n",
       "      <td>0.408815</td>\n",
       "    </tr>\n",
       "  </tbody>\n",
       "</table>\n",
       "</div>"
      ],
      "text/plain": [
       "               T  dof alternative     p-val          CI95%   cohen-d   BF10   \n",
       "T-test  1.963961    8   two-sided  0.085135  [-0.31, 3.91]  1.242118  1.363  \\\n",
       "\n",
       "           power  \n",
       "T-test  0.408815  "
      ]
     },
     "execution_count": 5,
     "metadata": {},
     "output_type": "execute_result"
    }
   ],
   "source": [
    "import pingouin as pg\n",
    "pg.ttest(Control, Ozempic) "
   ]
  },
  {
   "cell_type": "markdown",
   "id": "8cc6ebba",
   "metadata": {
    "slideshow": {
     "slide_type": "fragment"
    }
   },
   "source": [
    "#### Does this mean that Ozempic doesn't cause weight loss in mice?\n",
    "\n",
    "##"
   ]
  },
  {
   "cell_type": "code",
   "execution_count": 6,
   "id": "59f808c2",
   "metadata": {
    "slideshow": {
     "slide_type": "slide"
    }
   },
   "outputs": [
    {
     "data": {
      "text/html": [
       "<div>\n",
       "<style scoped>\n",
       "    .dataframe tbody tr th:only-of-type {\n",
       "        vertical-align: middle;\n",
       "    }\n",
       "\n",
       "    .dataframe tbody tr th {\n",
       "        vertical-align: top;\n",
       "    }\n",
       "\n",
       "    .dataframe thead th {\n",
       "        text-align: right;\n",
       "    }\n",
       "</style>\n",
       "<table border=\"1\" class=\"dataframe\">\n",
       "  <thead>\n",
       "    <tr style=\"text-align: right;\">\n",
       "      <th></th>\n",
       "      <th>T</th>\n",
       "      <th>dof</th>\n",
       "      <th>alternative</th>\n",
       "      <th>p-val</th>\n",
       "      <th>CI95%</th>\n",
       "      <th>cohen-d</th>\n",
       "      <th>BF10</th>\n",
       "      <th>power</th>\n",
       "    </tr>\n",
       "  </thead>\n",
       "  <tbody>\n",
       "    <tr>\n",
       "      <th>T-test</th>\n",
       "      <td>2.148345</td>\n",
       "      <td>12</td>\n",
       "      <td>two-sided</td>\n",
       "      <td>0.052799</td>\n",
       "      <td>[-0.02, 2.88]</td>\n",
       "      <td>1.148339</td>\n",
       "      <td>1.724</td>\n",
       "      <td>0.506232</td>\n",
       "    </tr>\n",
       "  </tbody>\n",
       "</table>\n",
       "</div>"
      ],
      "text/plain": [
       "               T  dof alternative     p-val          CI95%   cohen-d   BF10   \n",
       "T-test  2.148345   12   two-sided  0.052799  [-0.02, 2.88]  1.148339  1.724  \\\n",
       "\n",
       "           power  \n",
       "T-test  0.506232  "
      ]
     },
     "execution_count": 6,
     "metadata": {},
     "output_type": "execute_result"
    }
   ],
   "source": [
    "# You decide to run another 2 mice\n",
    "Control = [25, 26, 27, 24, 23, 24, 25]\n",
    "Ozempic = [24, 25, 22, 22, 23, 24, 24] \n",
    "pg.ttest(Control, Ozempic)"
   ]
  },
  {
   "cell_type": "markdown",
   "id": "85235489",
   "metadata": {
    "slideshow": {
     "slide_type": "fragment"
    }
   },
   "source": [
    "#### What is the practice of adding subjects until you reach significance called? \n",
    "\n",
    "##"
   ]
  },
  {
   "cell_type": "code",
   "execution_count": 7,
   "id": "8e312c18",
   "metadata": {
    "slideshow": {
     "slide_type": "slide"
    }
   },
   "outputs": [
    {
     "name": "stderr",
     "output_type": "stream",
     "text": [
      "C:\\Users\\kravitza.PSYCH\\AppData\\Local\\anaconda3\\Lib\\site-packages\\outdated\\utils.py:14: OutdatedPackageWarning: The package pingouin is out of date. Your version is 0.5.3, the latest is 0.5.5.\n",
      "Set the environment variable OUTDATED_IGNORE=1 to disable these warnings.\n",
      "  return warn(\n"
     ]
    },
    {
     "data": {
      "image/png": "[encoded data removed]",
      "text/plain": [
       "<Figure size 640x480 with 1 Axes>"
      ]
     },
     "metadata": {},
     "output_type": "display_data"
    }
   ],
   "source": [
    "#Let's use simulation to determine the Statistical power of our Ozempic vs. Control experiments\n",
    "ControlPop = sorted(np.random.normal(30, 5, 100000))\n",
    "OzempicPop = sorted(np.random.normal(25, 5, 100000))\n",
    "\n",
    "sns.histplot(ControlPop, alpha=0.3, bins = 100, lw = 0)\n",
    "sns.histplot(OzempicPop, alpha=0.3, bins = 100, lw = 0)\n",
    "plt.xlabel(\"Weight (g)\");"
   ]
  },
  {
   "cell_type": "code",
   "execution_count": 8,
   "id": "796c615f",
   "metadata": {
    "slideshow": {
     "slide_type": "slide"
    }
   },
   "outputs": [
    {
     "name": "stdout",
     "output_type": "stream",
     "text": [
      "Control Mean: 30.438526816042874\n",
      "Ozempic Mean: 19.885660102403328\n",
      "Difference -10.552866713639546\n"
     ]
    }
   ],
   "source": [
    "#now let's simulate an experimental sample of N mice per group:\n",
    "mice_per_group = 5\n",
    "Control = random.sample(ControlPop, mice_per_group)\n",
    "Ozempic = random.sample(OzempicPop, mice_per_group)\n",
    "\n",
    "print (\"Control Mean: \" + str(np.mean(Control)))\n",
    "print (\"Ozempic Mean: \" + str(np.mean(Ozempic)))\n",
    "print (\"Difference \" + str(np.mean(Ozempic) - np.mean(Control)))"
   ]
  },
  {
   "cell_type": "code",
   "execution_count": 9,
   "id": "81f3d6fb",
   "metadata": {
    "slideshow": {
     "slide_type": "fragment"
    }
   },
   "outputs": [
    {
     "data": {
      "text/html": [
       "<div>\n",
       "<style scoped>\n",
       "    .dataframe tbody tr th:only-of-type {\n",
       "        vertical-align: middle;\n",
       "    }\n",
       "\n",
       "    .dataframe tbody tr th {\n",
       "        vertical-align: top;\n",
       "    }\n",
       "\n",
       "    .dataframe thead th {\n",
       "        text-align: right;\n",
       "    }\n",
       "</style>\n",
       "<table border=\"1\" class=\"dataframe\">\n",
       "  <thead>\n",
       "    <tr style=\"text-align: right;\">\n",
       "      <th></th>\n",
       "      <th>T</th>\n",
       "      <th>dof</th>\n",
       "      <th>alternative</th>\n",
       "      <th>p-val</th>\n",
       "      <th>CI95%</th>\n",
       "      <th>cohen-d</th>\n",
       "      <th>BF10</th>\n",
       "      <th>power</th>\n",
       "    </tr>\n",
       "  </thead>\n",
       "  <tbody>\n",
       "    <tr>\n",
       "      <th>T-test</th>\n",
       "      <td>2.267098</td>\n",
       "      <td>8</td>\n",
       "      <td>two-sided</td>\n",
       "      <td>0.053131</td>\n",
       "      <td>[-0.18, 21.29]</td>\n",
       "      <td>1.433839</td>\n",
       "      <td>1.794</td>\n",
       "      <td>0.513248</td>\n",
       "    </tr>\n",
       "  </tbody>\n",
       "</table>\n",
       "</div>"
      ],
      "text/plain": [
       "               T  dof alternative     p-val           CI95%   cohen-d   BF10   \n",
       "T-test  2.267098    8   two-sided  0.053131  [-0.18, 21.29]  1.433839  1.794  \\\n",
       "\n",
       "           power  \n",
       "T-test  0.513248  "
      ]
     },
     "execution_count": 9,
     "metadata": {},
     "output_type": "execute_result"
    }
   ],
   "source": [
    "pg.ttest(Control, Ozempic)"
   ]
  },
  {
   "cell_type": "code",
   "execution_count": 44,
   "id": "d04299d4",
   "metadata": {
    "slideshow": {
     "slide_type": "slide"
    }
   },
   "outputs": [
    {
     "name": "stdout",
     "output_type": "stream",
     "text": [
      "Statistical Power is: 0.794\n"
     ]
    }
   ],
   "source": [
    "#Let's use simulation to determine our statical power\n",
    "mice_per_group = 17\n",
    "TotalTests = 500\n",
    "\n",
    "SignificantTests = []\n",
    "for i in range(TotalTests):\n",
    "    # Simulate data\n",
    "    Control = np.random.normal(30, 5, 5)\n",
    "    Ozempic = np.random.normal(25, 5, 5)\n",
    "    \n",
    "    # Perform a two-sample t-test\n",
    "    t_test_result = pg.ttest(Control, Ozempic)\n",
    "    \n",
    "    # Check if the p-value is less than 0.05\n",
    "    p_value = t_test_result['p-val'][0]\n",
    "    is_significant = p_value < 0.05\n",
    "    \n",
    "    # Append the result to the list\n",
    "    SignificantTests.append(is_significant) \n",
    "\n",
    "print (\"Statistical Power is: \" + str(sum(SignificantTests)/TotalTests))"
   ]
  },
  {
   "cell_type": "markdown",
   "id": "d6c05ff8",
   "metadata": {
    "slideshow": {
     "slide_type": "slide"
    }
   },
   "source": [
    "### Statistical Power: The probability of detecting a significant result in your sample when it exists in the population (i.e a true positive).\n",
    "\n",
    "\n",
    "##"
   ]
  },
  {
   "cell_type": "markdown",
   "id": "fe12a105",
   "metadata": {
    "slideshow": {
     "slide_type": "fragment"
    }
   },
   "source": [
    "### What four factors impact statistical power?\n"
   ]
  },
  {
   "cell_type": "markdown",
   "id": "f27e3069",
   "metadata": {
    "slideshow": {
     "slide_type": "fragment"
    }
   },
   "source": [
    "- effect size\n",
    "- variance \n",
    "- sample size\n",
    "- which statistical test you use, including your alpha\n"
   ]
  },
  {
   "cell_type": "code",
   "execution_count": 45,
   "id": "784e2536",
   "metadata": {
    "slideshow": {
     "slide_type": "slide"
    }
   },
   "outputs": [
    {
     "data": {
      "text/plain": [
       "<matplotlib.legend.Legend at 0x2bb2feb5610>"
      ]
     },
     "execution_count": 45,
     "metadata": {},
     "output_type": "execute_result"
    },
    {
     "data": {
      "image/png": "[encoded data removed]",
      "text/plain": [
       "<Figure size 640x480 with 1 Axes>"
      ]
     },
     "metadata": {},
     "output_type": "display_data"
    }
   ],
   "source": [
    "#How can we increase statistical power?\n",
    "\n",
    "Control = np.random.normal(30, 5, 5)\n",
    "Ozempic = np.random.normal(25, 5, 5)\n",
    "\n",
    "sns.histplot(Control, alpha=0.3, bins = 100, lw = 0, label=\"control\")\n",
    "sns.histplot(Ozempic, alpha=0.3, bins = 100, lw = 0, label=\"ozempic\");\n",
    "plt.xlabel (\"Weight\")\n",
    "plt.legend(title='')"
   ]
  },
  {
   "cell_type": "code",
   "execution_count": 36,
   "id": "ced02d42",
   "metadata": {
    "slideshow": {
     "slide_type": "slide"
    }
   },
   "outputs": [
    {
     "name": "stdout",
     "output_type": "stream",
     "text": [
      "Statistical Power is: 0.29\n"
     ]
    }
   ],
   "source": [
    "#Let's use simulation to determine our statistical power\n",
    "mice_per_group = 5\n",
    "TotalTests = 100\n",
    "\n",
    "SignificantTests = []\n",
    "for i in range(TotalTests):\n",
    "    # Simulate data\n",
    "    Control = np.random.normal(30, 5, 5)\n",
    "    Ozempic = np.random.normal(25, 5, 5)\n",
    "\n",
    "    # Perform a two-sample t-test\n",
    "    t_test_result = pg.ttest(Control, Ozempic)\n",
    "    #alternative='two-sided',\n",
    "\n",
    "    # Check if the p-value is less than 0.05\n",
    "    p_value = t_test_result['p-val'][0]\n",
    "    is_significant = p_value < 0.05\n",
    "\n",
    "    # Append the result to the list\n",
    "    SignificantTests.append(is_significant)\n",
    "\n",
    "print (\"Statistical Power is: \" + str(sum(SignificantTests)/TotalTests))"
   ]
  },
  {
   "cell_type": "markdown",
   "id": "c63f47cb",
   "metadata": {
    "slideshow": {
     "slide_type": "slide"
    }
   },
   "source": [
    "### What four factors impact statistical power?\n",
    "- effect size\n",
    "- variance \n",
    "- sample size\n",
    "- which statistical test you use, including your alpha\n"
   ]
  },
  {
   "cell_type": "markdown",
   "id": "c4682c01",
   "metadata": {
    "slideshow": {
     "slide_type": "slide"
    }
   },
   "source": [
    "### Goals of lecture:\n",
    "- ~~Introduce one more package: Pingouin~~\n",
    "- ~~Understand statistical power~~\n",
    "- Learn what an \"effect size\" is, and how to express it\n",
    "- Determine how to calculate the number of subjects you should include in your studies"
   ]
  },
  {
   "cell_type": "code",
   "execution_count": 35,
   "id": "cca89227",
   "metadata": {
    "slideshow": {
     "slide_type": "slide"
    }
   },
   "outputs": [
    {
     "data": {
      "text/plain": [
       "<matplotlib.legend.Legend at 0x2bb30fd5510>"
      ]
     },
     "execution_count": 35,
     "metadata": {},
     "output_type": "execute_result"
    },
    {
     "data": {
      "image/png": "[encoded data removed]",
      "text/plain": [
       "<Figure size 640x480 with 1 Axes>"
      ]
     },
     "metadata": {},
     "output_type": "display_data"
    }
   ],
   "source": [
    "#Back to our Ozempic simulation - What's the Effect  Size?\n",
    "ControlPop = np.random.normal(30, 5, 100000)\n",
    "OzempicPop = np.random.normal(25, 5, 100000)\n",
    "\n",
    "sns.histplot(ControlPop, alpha=0.3, bins = 100, lw = 0, label=\"control\")\n",
    "sns.histplot(OzempicPop, alpha=0.3, bins = 100, lw = 0, label=\"ozempic\");\n",
    "plt.xlabel (\"Weight\")\n",
    "plt.legend(title='')\n"
   ]
  },
  {
   "cell_type": "markdown",
   "id": "4cc8b101",
   "metadata": {
    "slideshow": {
     "slide_type": "slide"
    }
   },
   "source": [
    "### How can we express effect size?\n",
    "- Difference in absolute units (ie: 5 grams)\n",
    "- Difference expressed as the Z-score between two means (Cohen's D)\n"
   ]
  },
  {
   "cell_type": "markdown",
   "id": "c2659b8f",
   "metadata": {
    "slideshow": {
     "slide_type": "fragment"
    }
   },
   "source": [
    " - ### You will convert raw unit effect sizes to Cohen's D for power analysis"
   ]
  },
  {
   "cell_type": "markdown",
   "id": "eafc3dba",
   "metadata": {
    "slideshow": {
     "slide_type": "slide"
    }
   },
   "source": [
    "## Graphical depiction of Cohen's D\n",
    "[Click here for a cool demo by Kristoffer Magnusson](https://rpsychologist.com/cohend/)"
   ]
  },
  {
   "cell_type": "code",
   "execution_count": 14,
   "id": "f64eea4a",
   "metadata": {
    "slideshow": {
     "slide_type": "slide"
    }
   },
   "outputs": [],
   "source": [
    "#Here is a forumla to calculate Cohen's D (you will use this forumla in the homework too)\n",
    "def CalculateCohensD (x, y):\n",
    "    cohensD = (np.mean(x) - np.mean(y)) / (np.sqrt((np.std(x, ddof=1) ** 2 + np.std(y, ddof=1) ** 2) / 2))\n",
    "    return cohensD"
   ]
  },
  {
   "cell_type": "code",
   "execution_count": 15,
   "id": "b60588c6",
   "metadata": {
    "slideshow": {
     "slide_type": "fragment"
    }
   },
   "outputs": [
    {
     "data": {
      "text/plain": [
       "0.9969757497583328"
      ]
     },
     "execution_count": 15,
     "metadata": {},
     "output_type": "execute_result"
    }
   ],
   "source": [
    "#Let's look at Cohen's D for the Control and Ozempic populations\n",
    "ControlPop = np.random.normal(30, 5, 1000000)\n",
    "OzempicPop = np.random.normal(25, 5, 1000000)\n",
    "CalculateCohensD(ControlPop, OzempicPop)"
   ]
  },
  {
   "cell_type": "markdown",
   "id": "c20b6165",
   "metadata": {
    "slideshow": {
     "slide_type": "slide"
    }
   },
   "source": [
    "## There are python packages that will determine statistical power for you given:\n",
    "\n"
   ]
  },
  {
   "cell_type": "markdown",
   "id": "75881234",
   "metadata": {
    "slideshow": {
     "slide_type": "fragment"
    }
   },
   "source": [
    "- effect size\n",
    "- variance in the data\n",
    "- sample size\n",
    "- which statistical test you plan to use, including your alpha\n"
   ]
  },
  {
   "cell_type": "markdown",
   "id": "44938fc8",
   "metadata": {
    "slideshow": {
     "slide_type": "fragment"
    }
   },
   "source": [
    "## Pinguion power!\n",
    "![](https://i.pinimg.com/originals/64/77/de/6477de09007adca909c6e73e94f59b07.gif)"
   ]
  },
  {
   "cell_type": "code",
   "execution_count": 16,
   "id": "affc35f6",
   "metadata": {
    "slideshow": {
     "slide_type": "slide"
    }
   },
   "outputs": [
    {
     "name": "stdout",
     "output_type": "stream",
     "text": [
      "Power: 0.28629549342627786\n"
     ]
    }
   ],
   "source": [
    "#Let's go through our Ozempic example with Pinguoin's power test\n",
    "effect_size = 1  # Cohen's D\n",
    "alpha = 0.05\n",
    "\n",
    "power = pg.power_ttest(d=effect_size, n=5, alpha=0.05)\n",
    "print(\"Power: \" + str(power))"
   ]
  },
  {
   "cell_type": "markdown",
   "id": "a1735d0f",
   "metadata": {
    "slideshow": {
     "slide_type": "slide"
    }
   },
   "source": [
    "### Goals of lecture:\n",
    "- ~~Introduce one more package: Pingouin~~\n",
    "- ~~Understand statistical power~~\n",
    "- ~~Learn what an \"effect size\" is, and how to express it~~\n",
    "- Determine how to calculate the number of subjects you should include in your studies"
   ]
  },
  {
   "cell_type": "markdown",
   "id": "9fcabd1b",
   "metadata": {
    "slideshow": {
     "slide_type": "slide"
    }
   },
   "source": [
    "### There are multiple types of Power Analysis:\n",
    "- \"Power-determination analysis\" - (often post-hoc) what power did a study have to detect an effect? \n",
    "- \"Sample-size determination analysis\" - how many subjects do I need to detect a desired effect size?\n",
    "- \"Effect-size sensitivity analysis\" - what effect size is a study design sensitive to detect?\n"
   ]
  },
  {
   "cell_type": "code",
   "execution_count": 21,
   "id": "c0787617",
   "metadata": {
    "slideshow": {
     "slide_type": "slide"
    }
   },
   "outputs": [
    {
     "name": "stdout",
     "output_type": "stream",
     "text": [
      "Power: 0.29\n"
     ]
    }
   ],
   "source": [
    "#We already ran a \"power determination analysis\" on our Ozempic example\n",
    "\n",
    "effect_size = 1\n",
    "n = 5\n",
    "alpha = 0.05\n",
    "\n",
    "power = round(pg.power_ttest(d=effect_size, n=n, alpha=0.05),2)\n",
    "print(\"Power: \" + str(power))"
   ]
  },
  {
   "cell_type": "code",
   "execution_count": 18,
   "id": "1fccace5",
   "metadata": {
    "slideshow": {
     "slide_type": "slide"
    }
   },
   "outputs": [
    {
     "name": "stdout",
     "output_type": "stream",
     "text": [
      "Effect size we can detect with 0.80 power: 1.32\n"
     ]
    }
   ],
   "source": [
    "#Now let's do an \"effect-size sensitivity analysis\" on our Ozempic example\n",
    "\n",
    "power = 0.80\n",
    "n = 10\n",
    "alpha = 0.05\n",
    "\n",
    "effect_size  = round(pg.power_ttest(power=power, n=n, alpha=0.05),2)\n",
    "print(\"Effect size we can detect with 0.80 power: \" + str(effect_size))"
   ]
  },
  {
   "cell_type": "code",
   "execution_count": 19,
   "id": "ac372673",
   "metadata": {
    "slideshow": {
     "slide_type": "slide"
    }
   },
   "outputs": [
    {
     "name": "stdout",
     "output_type": "stream",
     "text": [
      "Number of animals needed per group to detect a Cohen's D of 1, with 0.80 power: 16.71\n"
     ]
    }
   ],
   "source": [
    "#And now let's do a \"sample-size determination analysis\" on our Ozempic example\n",
    "\n",
    "power = 0.80\n",
    "alpha = 0.05\n",
    "effect_size = 1\n",
    "\n",
    "sample_size  = round(pg.power_ttest(power=power, d=effect_size, alpha=0.05),2)\n",
    "print(\"Number of animals needed per group to detect a Cohen's D of 1, with 0.80 power: \" + str(sample_size))"
   ]
  },
  {
   "cell_type": "markdown",
   "id": "8154634a",
   "metadata": {
    "slideshow": {
     "slide_type": "slide"
    }
   },
   "source": [
    "### Let's go back to the beginning: We decide to test if Ozempic causes weight loss in mice.  \n",
    "\n",
    "What do we need to know before we chooose a sample size?\n"
   ]
  },
  {
   "cell_type": "markdown",
   "id": "8d68d57c",
   "metadata": {
    "slideshow": {
     "slide_type": "fragment"
    }
   },
   "source": [
    "### Step 1: Determine a meaningful effect size for your question. \n",
    "Let's assume we want to detect at least a 10% change in body weight (convert this effect size to a Cohen's D)\n"
   ]
  },
  {
   "cell_type": "markdown",
   "id": "a1636310",
   "metadata": {
    "slideshow": {
     "slide_type": "fragment"
    }
   },
   "source": [
    "### Step 2: Determine the appropriate statitical test\n",
    "Choose your statistical test. Here we'll use a t-test.\n"
   ]
  },
  {
   "cell_type": "markdown",
   "id": "ec18e7b1",
   "metadata": {
    "slideshow": {
     "slide_type": "fragment"
    }
   },
   "source": [
    "\n",
    "### Step 3: Determine your desired statistical power and alpha\n",
    "Power will almost always be 0.8, and alpha will almost always be 0.05\n",
    "\n"
   ]
  },
  {
   "cell_type": "markdown",
   "id": "ac897f3d",
   "metadata": {
    "slideshow": {
     "slide_type": "fragment"
    }
   },
   "source": [
    "### Step 4: Estimate the means and standard deviation of your data \n",
    "This can be tricky, and requires pilot data or good literature on the topic, but is required to convert your effect size to Cohen's D"
   ]
  },
  {
   "cell_type": "code",
   "execution_count": 20,
   "id": "8e05831e",
   "metadata": {
    "slideshow": {
     "slide_type": "slide"
    }
   },
   "outputs": [
    {
     "name": "stdout",
     "output_type": "stream",
     "text": [
      "Sample Size: 44.59\n"
     ]
    }
   ],
   "source": [
    "effect_size = 0.1\n",
    "meanweight = 30\n",
    "std = 5\n",
    "\n",
    "cohensd = effect_size * meanweight / std  # Looking for a 10% effect in 30g mice, divided by the Stdev\n",
    "alpha = 0.05\n",
    "power = 0.8\n",
    "\n",
    "samplesize = round(pg.power_ttest(power = power, d=cohensd, alpha=alpha),2)\n",
    "print(\"Sample Size: \" + str(samplesize))"
   ]
  },
  {
   "cell_type": "markdown",
   "id": "cd3ceb62",
   "metadata": {
    "slideshow": {
     "slide_type": "slide"
    }
   },
   "source": [
    "Practical recommendations\n",
    "- Power analyses are not useful with small n's  \n",
    "- Proceed cautiously if your power determination shows you detected an effect with power < 0.8\n",
    "- Run a pilot, and then plan out your publishable study"
   ]
  }
 ],
 "metadata": {
  "celltoolbar": "Slideshow",
  "kernelspec": {
   "display_name": "Python 3 (ipykernel)",
   "language": "python",
   "name": "python3"
  },
  "language_info": {
   "codemirror_mode": {
    "name": "ipython",
    "version": 3
   },
   "file_extension": ".py",
   "mimetype": "text/x-python",
   "name": "python",
   "nbconvert_exporter": "python",
   "pygments_lexer": "ipython3",
   "version": "3.11.4"
  }
 },
 "nbformat": 4,
 "nbformat_minor": 5
}
